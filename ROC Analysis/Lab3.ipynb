{
 "cells": [
  {
   "cell_type": "code",
   "execution_count": 1,
   "id": "54d5bb09",
   "metadata": {},
   "outputs": [],
   "source": [
    "import numpy as np\n",
    "import pandas as pd\n",
    "import scipy\n",
    "import matplotlib.pyplot as plt\n",
    "from scipy import integrate\n",
    "from scipy.integrate import simps\n",
    "from scipy.stats import trapezoid\n",
    "from numpy.random import random\n",
    "from sklearn.model_selection import train_test_split\n",
    "from sklearn.neighbors import KNeighborsClassifier\n",
    "from sklearn import metrics\n",
    "\n",
    "class ROC():\n",
    "    TPr = []\n",
    "    FPr = []\n",
    "    \n",
    " ### PART A\n",
    "    #Parametric constructor\n",
    "    def __init__(self, Probs, TrueClass):\n",
    "        #class probabilities of P positive and N negative test instances\n",
    "        self.Probs = Probs\n",
    "        #true class labels of N test instances\n",
    "        self.TrueClass = TrueClass\n",
    "       \n",
    "        \n",
    "### PART B\n",
    "    def compute_ROC_coordinates(self, Probs, TrueClass):\n",
    "        #computes the TPr and FPr coordinates of the ROC curve \n",
    "        #from the positive-class probabilities and true classes of the test instances\n",
    "        \n",
    "        #Sort Probs in descreasing order\n",
    "        Probs = Probs.sort_values(ascending=False)\n",
    "        #Reorder TrueClass so that the positive-class probability of instance with index i in\n",
    "        #Probs has the true-class label with index i in TrueClass\n",
    "        TrueClass = TrueClass.reindex(Probs.index)\n",
    "        \n",
    "        #(TPr, FPr) coordinates of ROC curve\n",
    "        ROC_coordinates = []\n",
    "        \n",
    "        FP = 0\n",
    "        TP = 0\n",
    "        Previos_Prob = float('-inf')\n",
    "\n",
    "        N = TrueClass.value_counts()['tested_negative'] #row of negatives\n",
    "        P = TrueClass.value_counts()['tested_positive'] #row of positives\n",
    "        \n",
    "        for i in range(len(Probs)): # for each i-th instance\n",
    "            if Probs.iloc[i] != Previos_Prob:\n",
    "                #Add point (FP/N, TP/P) to ROC_coordinates\n",
    "                ROC_coordinates.append([FP/N, TP/P])\n",
    "                \n",
    "                Previos_Prob = Probs[i]\n",
    "                \n",
    "            if TrueClass.iloc[i]['class'] == \"tested_positive\":\n",
    "                TP = TP + 1\n",
    "            else:\n",
    "                FP = FP + 1\n",
    "        \n",
    "            #Add point (FP/N, TP/P) to ROC_coordinates\n",
    "            ROC_coordinates.append([FP/N, TP/P])\n",
    "        \n",
    "        return ROC_coordinates\n",
    "    \n",
    "    \n",
    "### PART C\n",
    "    def plot_ROC(self, ROC_coordinates):  \n",
    "    #plots the ROC curve\n",
    "    \n",
    "        for i in range(len(ROC_coordinates)):\n",
    "            self.FPr.append(ROC_coordinates[i][0])\n",
    "            self.TPr.append(ROC_coordinates[i][1])\n",
    "            \n",
    "        plt.plot(self.FPr, self.TPr, label='ROC')\n",
    "        plt.xlabel('False Positive Rate')\n",
    "        plt.ylabel('True Positive Rate')\n",
    "        plt.title('ROC Curve')\n",
    "        plt.legend()\n",
    "        plt.show()\n",
    "        \n",
    "### PART D\n",
    "    def compute_AUCROC(self):\n",
    "    # computes the area under curve (AUC) of the ROC curve \n",
    "    # from the positive-class probabilities and true classes \n",
    "    # of the test instances\n",
    "        area = scipy.integrate.trapezoid(self.TPr, self.FPr)\n",
    "        return area\n",
    "            "
   ]
  },
  {
   "cell_type": "code",
   "execution_count": 2,
   "id": "11980c9e",
   "metadata": {},
   "outputs": [
    {
     "data": {
      "image/png": "[encoded data removed]",
      "text/plain": [
       "<Figure size 432x288 with 1 Axes>"
      ]
     },
     "metadata": {
      "needs_background": "light"
     },
     "output_type": "display_data"
    },
    {
     "name": "stdout",
     "output_type": "stream",
     "text": [
      "Area under the curve:\n"
     ]
    },
    {
     "data": {
      "text/plain": [
       "0.7574721377912867"
      ]
     },
     "execution_count": 2,
     "metadata": {},
     "output_type": "execute_result"
    }
   ],
   "source": [
    "### PART E\n",
    "\n",
    "import numpy as np\n",
    "import pandas as pd\n",
    "import scipy\n",
    "import matplotlib.pyplot as plt\n",
    "from scipy import integrate\n",
    "from scipy.integrate import simps\n",
    "from scipy.stats import trapezoid\n",
    "from numpy.random import random\n",
    "from sklearn.model_selection import train_test_split\n",
    "from sklearn.neighbors import KNeighborsClassifier\n",
    "from sklearn import metrics\n",
    "\n",
    "data = pd.read_csv('diabetes.csv')\n",
    "data.head()\n",
    "Y = data['class']\n",
    "X = data.drop(['class'],axis=1)\n",
    "\n",
    "X_train, X_test, Y_train, Y_test = train_test_split(X, Y, test_size=0.34, random_state=10)\n",
    "\n",
    "clf = KNeighborsClassifier(n_neighbors=10)\n",
    "clf.fit(X_train, Y_train)\n",
    "\n",
    "Probs = pd.DataFrame(clf.predict_proba(X_test))\n",
    "Probs = Probs.iloc[:,1] # Keeping only the positive class \n",
    "\n",
    "\n",
    "TrueClass = pd.DataFrame(Y_test).reset_index(drop=True)\n",
    "roc = ROC(Probs, TrueClass)\n",
    "\n",
    "# ROC_coordinates\n",
    "ROC_coordinates = roc.compute_ROC_coordinates(Probs, TrueClass)\n",
    "\n",
    "# plot ROC_coordinates\n",
    "roc.plot_ROC(ROC_coordinates)\n",
    "\n",
    "#Area under the curve\n",
    "print(\"Area under the curve:\")\n",
    "roc.compute_AUCROC()\n"
   ]
  },
  {
   "cell_type": "code",
   "execution_count": null,
   "id": "48e1602e",
   "metadata": {},
   "outputs": [],
   "source": []
  }
 ],
 "metadata": {
  "kernelspec": {
   "display_name": "Python 3",
   "language": "python",
   "name": "python3"
  },
  "language_info": {
   "codemirror_mode": {
    "name": "ipython",
    "version": 3
   },
   "file_extension": ".py",
   "mimetype": "text/x-python",
   "name": "python",
   "nbconvert_exporter": "python",
   "pygments_lexer": "ipython3",
   "version": "3.8.8"
  }
 },
 "nbformat": 4,
 "nbformat_minor": 5
}
