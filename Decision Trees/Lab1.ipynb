{
 "cells": [
  {
   "cell_type": "markdown",
   "id": "953104bd",
   "metadata": {},
   "source": [
    "**4c: Train one-level decision trees and multi-level decision trees on the two data sets. Determine the accuracy rates of the resulting classifiers using the training set and hold-out validation.**"
   ]
  },
  {
   "cell_type": "code",
   "execution_count": 1,
   "id": "eea3eb29",
   "metadata": {},
   "outputs": [],
   "source": [
    "import sklearn\n",
    "import pandas as pd\n",
    "from sklearn import tree\n",
    "from sklearn.model_selection import train_test_split\n",
    "from sklearn.metrics import accuracy_score\n",
    "import matplotlib\n",
    "import matplotlib.pyplot as plt"
   ]
  },
  {
   "cell_type": "code",
   "execution_count": 2,
   "id": "7e2543e8",
   "metadata": {},
   "outputs": [],
   "source": [
    "diabetes_data = pd.read_csv('diabetes.csv')\n",
    "# Output column (vector) Y (given by the output attribute)\n",
    "Y_diabetes = diabetes_data['class']\n",
    "# Input matrix X (i.e. the sub-matrix given by input attributes)\n",
    "# The output attribute has a name class\n",
    "X_diabetes = diabetes_data.drop(['class'],axis=1)"
   ]
  },
  {
   "cell_type": "code",
   "execution_count": 3,
   "id": "05938dc8",
   "metadata": {},
   "outputs": [],
   "source": [
    "# One-level decision trees\n",
    "clf_diabetes_one = tree.DecisionTreeClassifier(criterion = 'entropy', max_depth=1)\n",
    "\n",
    "# Multi-level decision trees\n",
    "clf_diabetes_multi = tree.DecisionTreeClassifier(criterion = 'entropy', max_depth=None)"
   ]
  },
  {
   "cell_type": "code",
   "execution_count": 4,
   "id": "d73c752a",
   "metadata": {},
   "outputs": [],
   "source": [
    "# Hold-out validation of decision trees: the original data set is first split randomly into training data set and test data set. \n",
    "# Then a decision tree is trained on the training data and tested on the test data.\n",
    "X_diabetes_train, X_diabetes_test, Y_diabetes_train, Y_diabetes_test = train_test_split(X_diabetes, Y_diabetes,\n",
    "  test_size=0.34, random_state=10)\n",
    "\n",
    "# Train the decision-tree classifier clf from training data X and Y\n",
    "clf_diabetes_one = clf_diabetes_one.fit(X_diabetes_train, Y_diabetes_train)\n",
    "clf_diabetes_multi = clf_diabetes_multi.fit(X_diabetes_train, Y_diabetes_train)"
   ]
  },
  {
   "cell_type": "code",
   "execution_count": 5,
   "id": "6ab21c57",
   "metadata": {},
   "outputs": [
    {
     "name": "stdout",
     "output_type": "stream",
     "text": [
      "Accuracy of one-level decision trees on diabetes data set:\n",
      "0.7213740458015268\n",
      "Accuracy of multi-level decision trees on diabetes data set:\n",
      "0.7366412213740458\n"
     ]
    }
   ],
   "source": [
    "# Assume that we have test data with input matrix Xt and output vector Yt.\n",
    "# To compute the vector Yp of predictions for Xt provided by the decision-tree classifier clf\n",
    "Yp_diabetes_one = clf_diabetes_one.predict(X_diabetes_test)\n",
    "Yp_diabetes_multi = clf_diabetes_multi.predict(X_diabetes_test)\n",
    "\n",
    "# Accuracy rate acc\n",
    "acc_diabetes_one = accuracy_score(Y_diabetes_test, Yp_diabetes_one)\n",
    "acc_diabetes_multi = accuracy_score(Y_diabetes_test, Yp_diabetes_multi)\n",
    "\n",
    "print(\"Accuracy of one-level decision trees on diabetes data set:\")\n",
    "print(acc_diabetes_one)\n",
    "print(\"Accuracy of multi-level decision trees on diabetes data set:\")\n",
    "print(acc_diabetes_multi)\n",
    "\n",
    "# We note that, if Xt is X and Yt is Y, the estimate rate acc is the training accuracy rate."
   ]
  },
  {
   "cell_type": "code",
   "execution_count": 6,
   "id": "76229823",
   "metadata": {},
   "outputs": [],
   "source": [
    "glass_data = pd.read_csv('glass.csv')\n",
    "Y_glass = glass_data['class']\n",
    "X_glass = glass_data.drop(['class'],axis=1)"
   ]
  },
  {
   "cell_type": "code",
   "execution_count": 7,
   "id": "ecb6eff5",
   "metadata": {},
   "outputs": [],
   "source": [
    "# One-level decision trees\n",
    "clf_glass_one = tree.DecisionTreeClassifier(criterion = 'entropy', max_depth=1)\n",
    "\n",
    "# Multi-level decision trees\n",
    "clf_glass_multi = tree.DecisionTreeClassifier(criterion = 'entropy', max_depth=None)\n",
    "\n",
    "\n",
    "X_glass_train, X_glass_test, Y_glass_train, Y_glass_test = train_test_split(X_glass, Y_glass,\n",
    "  test_size=0.34, random_state=10)\n",
    "\n",
    "# Train the decision-tree classifier clf from training data X and Y\n",
    "clf_glass_one = clf_glass_one.fit(X_glass_train, Y_glass_train)\n",
    "clf__glass_multi = clf_glass_multi.fit(X_glass_train, Y_glass_train)"
   ]
  },
  {
   "cell_type": "code",
   "execution_count": 8,
   "id": "118a3413",
   "metadata": {},
   "outputs": [
    {
     "name": "stdout",
     "output_type": "stream",
     "text": [
      "Accuracy of one-level decision trees on glass data set:\n",
      "0.4246575342465753\n",
      "Accuracy of multi-level decision trees on glass data set:\n",
      "0.6301369863013698\n"
     ]
    }
   ],
   "source": [
    "Yp_glass_one = clf_glass_one.predict(X_glass_test)\n",
    "Yp_glass_multi = clf_glass_multi.predict(X_glass_test)\n",
    "\n",
    "# Accuracy rate acc\n",
    "acc_glass_one = accuracy_score(Y_glass_test, Yp_glass_one)\n",
    "acc_glass_multi = accuracy_score(Y_glass_test, Yp_glass_multi)\n",
    "print(\"Accuracy of one-level decision trees on glass data set:\")\n",
    "print(acc_glass_one)\n",
    "print(\"Accuracy of multi-level decision trees on glass data set:\")\n",
    "print(acc_glass_multi)"
   ]
  },
  {
   "cell_type": "markdown",
   "id": "d3f8dd92",
   "metadata": {},
   "source": [
    "**4c. Explain why there is a difference in the accuracy rates. Compare one-level decision trees and multi-level decision trees in terms of explainability.**"
   ]
  },
  {
   "cell_type": "markdown",
   "id": "152187e9",
   "metadata": {},
   "source": [
    "The accuracy rates of multi-level decision trees are bigger than the accuracy rates of one-level decision trees because in multi-level decision trees, the depth-search is bigger as it has more branches. Thus, multi-level decision trees train and test more of the data and therefore, yield more accurate results."
   ]
  },
  {
   "cell_type": "markdown",
   "id": "56e9396e",
   "metadata": {},
   "source": [
    "**4d: Experiment with multi-level decision trees and error pre-pruning by changing the option min_samples_leaf from 0 to the size of the datasets (use some step). (The option min_samples_leaf determines the min number of training instances in the leaf nodes of the decision trees.) Estimate the accuracy rates of the resulting decision trees using the training set and hold-out validation. Plot the accuracy rates based on the training set and hold-out validation for min_samples_leaf from 1 to the size of the datasets with step of 5.**"
   ]
  },
  {
   "cell_type": "code",
   "execution_count": 9,
   "id": "a91c65b2",
   "metadata": {
    "scrolled": true
   },
   "outputs": [
    {
     "data": {
      "text/plain": [
       "<matplotlib.legend.Legend at 0x7fe4a313ddf0>"
      ]
     },
     "execution_count": 9,
     "metadata": {},
     "output_type": "execute_result"
    },
    {
     "data": {
      "image/png": "[encoded data removed]",
      "text/plain": [
       "<Figure size 432x288 with 1 Axes>"
      ]
     },
     "metadata": {
      "needs_background": "light"
     },
     "output_type": "display_data"
    }
   ],
   "source": [
    "acc_diabetes_test=[]\n",
    "acc_diabetes_train=[]\n",
    "\n",
    "\n",
    "for k in range(1, 768, 5): # Number of Instances: 768\n",
    "    clf_diabetes_multi = tree.DecisionTreeClassifier(criterion = 'entropy', min_samples_leaf = k, max_depth=None)\n",
    "    X_diabetes_train, X_diabetes_test, Y_diabetes_train, Y_diabetes_test = train_test_split(X_diabetes, Y_diabetes,\n",
    "  test_size=0.34, random_state=10)\n",
    "    clf_diabetes_multi = clf_diabetes_multi.fit(X_diabetes_train, Y_diabetes_train)\n",
    "    \n",
    "    Yp_diabetes_multi_test = clf_diabetes_multi.predict(X_diabetes_test)\n",
    "    Yp_diabetes_multi_train = clf_diabetes_multi.predict(X_diabetes_train)\n",
    "    \n",
    "    acc_diabetes_multi_test = accuracy_score(Y_diabetes_test, Yp_diabetes_multi_test)\n",
    "    acc_diabetes_multi_train = accuracy_score(Y_diabetes_train, Yp_diabetes_multi_train)\n",
    "    \n",
    "    acc_diabetes_test.append(acc_diabetes_multi_test)\n",
    "    acc_diabetes_train.append(acc_diabetes_multi_train)\n",
    "    \n",
    "plt.plot(acc_diabetes_test, '-', label='Diabetes accuracy rates for test set')\n",
    "plt.plot(acc_diabetes_train,'-', label='Diabetes accuracy rates for training set')\n",
    "plt.xlabel('Size of tree (number of nodes)')\n",
    "plt.ylabel('Accuracy')\n",
    "plt.legend()"
   ]
  },
  {
   "cell_type": "markdown",
   "id": "ba333c26",
   "metadata": {},
   "source": [
    "**Identify the regions of underfitting, optimality, and overfitting. Explain how you have identified these regions.**"
   ]
  },
  {
   "cell_type": "markdown",
   "id": "19188d31",
   "metadata": {},
   "source": [
    "The region of overfitting is from min_samples_leaf=0 (i.e. size of tree=0) to around min_samples_leaf=15 because in this interval the train accuracy decreases while the test accuracy increases. The optmiality region is also in this interval as we can see that at around min_samples_leaf=15, the test accuracy is the highest: around 0.76. The region of underfitting is from around min_samples_leaf=16 to the end as both the test accuracy and the train accuracy decrease in the same pattern. We can also see that from around min_samples_leaf=50 both the test accuracy and the train accuracy become very close to each other and are straight lines that don't change (i.e. they don't increase nor decrease)."
   ]
  },
  {
   "cell_type": "code",
   "execution_count": 10,
   "id": "0347bd3c",
   "metadata": {},
   "outputs": [
    {
     "data": {
      "text/plain": [
       "<matplotlib.legend.Legend at 0x7fe4a3505c40>"
      ]
     },
     "execution_count": 10,
     "metadata": {},
     "output_type": "execute_result"
    },
    {
     "data": {
      "image/png": "[encoded data removed]",
      "text/plain": [
       "<Figure size 432x288 with 1 Axes>"
      ]
     },
     "metadata": {
      "needs_background": "light"
     },
     "output_type": "display_data"
    }
   ],
   "source": [
    "acc_glass_test=[]\n",
    "acc_glass_train=[]\n",
    "\n",
    "\n",
    "for l in range(1, 214, 5): # Number of Instances: 214\n",
    "    clf_glass_multi = tree.DecisionTreeClassifier(criterion = 'entropy', min_samples_leaf = l, max_depth=None)\n",
    "    X_glass_train, X_glass_test, Y_glass_train, Y_glass_test = train_test_split(X_glass, Y_glass, test_size=0.34, random_state=10)\n",
    "    clf_glass_multi = clf_glass_multi.fit(X_glass_train, Y_glass_train)\n",
    "    \n",
    "    Yp_glass_multi_test = clf_glass_multi.predict(X_glass_test)\n",
    "    Yp_glass_multi_train = clf_glass_multi.predict(X_glass_train)\n",
    "    \n",
    "    acc_glass_multi_test = accuracy_score(Y_glass_test, Yp_glass_multi_test)\n",
    "    acc_glass_multi_train = accuracy_score(Y_glass_train, Yp_glass_multi_train)\n",
    "    \n",
    "    acc_glass_test.append(acc_glass_multi_test)\n",
    "    acc_glass_train.append(acc_glass_multi_train)\n",
    "    \n",
    "plt.plot(acc_glass_test, '-', label='Glass accuracy rates for test set')\n",
    "plt.plot(acc_glass_train,'-', label='Glass accuracy rates for training set')\n",
    "plt.xlabel('Size of tree (number of nodes)')\n",
    "plt.ylabel('Accuracy')\n",
    "plt.legend()"
   ]
  },
  {
   "cell_type": "markdown",
   "id": "922e1a7a",
   "metadata": {},
   "source": [
    "**Identify the regions of underfitting, optimality, and overfitting. Explain how you have identified these regions.**"
   ]
  },
  {
   "cell_type": "markdown",
   "id": "25e125f8",
   "metadata": {},
   "source": [
    "The region of overfitting is from min_samples_leaf=0 (i.e. size of tree=0) to around min_samples_leaf=8 because in this interval the train accuracy decreases while the test accuracy increases. The optmiality region is also in this interval as we can see that at around min_samples_leaf=1, the test accuracy is the highest: around 0.68. The region of underfitting is from around min_samples_leaf=9 to the end as both the test accuracy and the train accuracy decrease in the same pattern. We can also see that from around min_samples_leaf=13 both the test accuracy and the train accuracy become almost one straight lines (i.e. there's overlap) that doesn't change (i.e. it doesn't increase nor decrease)."
   ]
  }
 ],
 "metadata": {
  "kernelspec": {
   "display_name": "Python 3",
   "language": "python",
   "name": "python3"
  },
  "language_info": {
   "codemirror_mode": {
    "name": "ipython",
    "version": 3
   },
   "file_extension": ".py",
   "mimetype": "text/x-python",
   "name": "python",
   "nbconvert_exporter": "python",
   "pygments_lexer": "ipython3",
   "version": "3.8.8"
  }
 },
 "nbformat": 4,
 "nbformat_minor": 5
}
